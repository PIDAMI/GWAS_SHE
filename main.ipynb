{
 "cells": [
  {
   "cell_type": "code",
   "execution_count": 2,
   "metadata": {},
   "outputs": [],
   "source": [
    "import time\n",
    "import matplotlib.pyplot as plt\n",
    "import numpy as np\n",
    "import scipy.stats as stat\n",
    "import statsmodels.api as sm"
   ]
  },
  {
   "cell_type": "code",
   "execution_count": null,
   "metadata": {},
   "outputs": [],
   "source": []
  },
  {
   "cell_type": "code",
   "execution_count": 19,
   "metadata": {},
   "outputs": [],
   "source": [
    "np.random.seed(2013)\n",
    "n = 10000 # samples\n",
    "m = 10000 # SNPs\n",
    "k = 5 # num of covariates\n",
    "\n",
    "S = np.random.normal(0, 1, size=(n, m)) # SNP matrix\n",
    "X0 = np.random.uniform(0, 1, size=(n, k)) # covariates matrix \n",
    "ones = np.zeros(n) + 1\n",
    "X = np.append(ones.reshape(n, 1), X0, axis=1)\n",
    "y = np.random.binomial(1, 0.5, n).reshape(n,1)"
   ]
  },
  {
   "cell_type": "markdown",
   "metadata": {},
   "source": [
    "# semi-parallel log regression with covariates"
   ]
  },
  {
   "cell_type": "markdown",
   "metadata": {},
   "source": [
    "fit regression with const matrix(covariates are the same for each SNP for one person), then do 1 iteration of Newton-Rhapsod(NR) with SNP term in regression.\n",
    "\n",
    "semi-parallel approach is realized in firstly doing one regression with covariates for all SNPs and then doing one iteration of NR for all SNP simultaneously(calculate S_star and not for each column of S separately)"
   ]
  },
  {
   "cell_type": "code",
   "execution_count": 21,
   "metadata": {},
   "outputs": [
    {
     "name": "stdout",
     "output_type": "stream",
     "text": [
      "Speed: 25.02 Msips\n",
      "\n"
     ]
    }
   ],
   "source": [
    "t0 = time.time()\n",
    "model = sm.GLM(y, X, family=sm.families.Binomial()).fit()\n",
    "p = model.fittedvalues.reshape(n,1)\n",
    "\n",
    "w = p * (1 - p) # diag matrix with const elem\n",
    "z = np.log(p / (1 - p)) + (y - p) / (p * (1 - p))\n",
    "xtw = (X * w).T # X^T * W\n",
    "U1 = xtw @ z\n",
    "U2 = np.linalg.solve(xtw @ X, U1) # find betta_t, needed to find z*\n",
    "z_star = z - X @ U2\n",
    "U4 = np.linalg.solve(xtw @ X, xtw @ S) \n",
    "S_star = S - X @ U4\n",
    "Str2 = np.sum(w * S_star**2, axis = 0) # m size vector of sums(w_i * s_i^2)\n",
    "beta = np.sum(z_star * w * S_star, axis=0) / Str2 # m size vect of sums(wi zi si) / str2\n",
    "err = Str2**-0.5\n",
    "pval = 2 * stat.norm.cdf(-np.abs(beta / err))\n",
    "\n",
    "# # Report time\n",
    "t1 = time.time() - t0\n",
    "msip = 1e-06 * n * m / t1\n",
    "print(f\"Speed: {msip:.2f} Msips\\n\")"
   ]
  },
  {
   "cell_type": "code",
   "execution_count": 28,
   "metadata": {},
   "outputs": [
    {
     "data": {
      "text/plain": [
       "5.062219762802124"
      ]
     },
     "execution_count": 28,
     "metadata": {},
     "output_type": "execute_result"
    }
   ],
   "source": [
    "(t1 * 76)/ 60"
   ]
  },
  {
   "cell_type": "markdown",
   "metadata": {},
   "source": [
    "non semi-parallel approach - fit regression for each SNP separately"
   ]
  },
  {
   "cell_type": "code",
   "execution_count": 17,
   "metadata": {},
   "outputs": [
    {
     "ename": "NameError",
     "evalue": "name 'msip_sep' is not defined",
     "output_type": "error",
     "traceback": [
      "\u001b[0;31m---------------------------------------------------------------------------\u001b[0m",
      "\u001b[0;31mNameError\u001b[0m                                 Traceback (most recent call last)",
      "Cell \u001b[0;32mIn [17], line 15\u001b[0m\n\u001b[1;32m      1\u001b[0m \u001b[39m# t0 = time.time()\u001b[39;00m\n\u001b[1;32m      2\u001b[0m \u001b[39m# beta_sep = np.zeros(m)\u001b[39;00m\n\u001b[1;32m      3\u001b[0m \u001b[39m# pval_sep = np.zeros(m)\u001b[39;00m\n\u001b[0;32m   (...)\u001b[0m\n\u001b[1;32m     12\u001b[0m \u001b[39m# msip_sep = 1e-06 * n * m / t1\u001b[39;00m\n\u001b[1;32m     13\u001b[0m \u001b[39m# print(f\"Speed: {msip_sep:.2f} Msips\\n\")\u001b[39;00m\n\u001b[0;32m---> 15\u001b[0m msip_sep \u001b[39m/\u001b[39m (n \u001b[39m*\u001b[39m m) \n",
      "\u001b[0;31mNameError\u001b[0m: name 'msip_sep' is not defined"
     ]
    }
   ],
   "source": [
    "t0 = time.time()\n",
    "beta_sep = np.zeros(m)\n",
    "pval_sep = np.zeros(m)\n",
    "err_sep = np.zeros(m)\n",
    "for i in range(m):\n",
    "    X_si = np.append(S[:,i].reshape(n,1), X, axis=1)\n",
    "    model = sm.GLM(y, X_si, family=sm.families.Binomial()).fit()\n",
    "    beta_sep[i] = model.params[0]\n",
    "    pval_sep[i] = model.pvalues[0]\n",
    "# # Report time\n",
    "t1 = time.time() - t0\n",
    "msip_sep = 1e-06 * n * m / t1\n",
    "print(f\"Speed: {msip_sep:.2f} Msips\\n\")"
   ]
  },
  {
   "cell_type": "code",
   "execution_count": 12,
   "metadata": {},
   "outputs": [
    {
     "name": "stdout",
     "output_type": "stream",
     "text": [
      "Semi-parallel is 47.11 times faster\n"
     ]
    }
   ],
   "source": [
    "print(f\"Semi-parallel is {msip/msip_sep:.2f} times faster\")"
   ]
  },
  {
   "cell_type": "code",
   "execution_count": 109,
   "metadata": {},
   "outputs": [
    {
     "data": {
      "text/plain": [
       "(array([100.,  85.,  87.,  93., 114., 114., 105.,  92.,  97., 113.]),\n",
       " array([0.00103895, 0.10088459, 0.20073023, 0.30057586, 0.4004215 ,\n",
       "        0.50026714, 0.60011278, 0.69995842, 0.79980406, 0.8996497 ,\n",
       "        0.99949533]),\n",
       " <BarContainer object of 10 artists>)"
      ]
     },
     "execution_count": 109,
     "metadata": {},
     "output_type": "execute_result"
    },
    {
     "data": {
      "image/png": "[encoded data removed]",
      "text/plain": [
       "<Figure size 640x480 with 1 Axes>"
      ]
     },
     "metadata": {},
     "output_type": "display_data"
    }
   ],
   "source": [
    "plt.hist(pval_sep)"
   ]
  },
  {
   "cell_type": "code",
   "execution_count": 117,
   "metadata": {},
   "outputs": [
    {
     "data": {
      "text/plain": [
       "(array([100.,  85.,  87.,  93., 114., 114., 105.,  92.,  97., 113.]),\n",
       " array([0.00103251, 0.1008788 , 0.20072508, 0.30057136, 0.40041764,\n",
       "        0.50026392, 0.60011021, 0.69995649, 0.79980277, 0.89964905,\n",
       "        0.99949533]),\n",
       " <BarContainer object of 10 artists>)"
      ]
     },
     "execution_count": 117,
     "metadata": {},
     "output_type": "execute_result"
    },
    {
     "data": {
      "image/png": "[encoded data removed]",
      "text/plain": [
       "<Figure size 640x480 with 1 Axes>"
      ]
     },
     "metadata": {},
     "output_type": "display_data"
    }
   ],
   "source": [
    "plt.hist(pval)"
   ]
  },
  {
   "cell_type": "markdown",
   "metadata": {},
   "source": [
    "Difference in p-values predicted by exact and approximate alglorithms"
   ]
  },
  {
   "cell_type": "code",
   "execution_count": 11,
   "metadata": {},
   "outputs": [
    {
     "data": {
      "text/plain": [
       "[<matplotlib.lines.Line2D at 0x7f11ab36b370>]"
      ]
     },
     "execution_count": 11,
     "metadata": {},
     "output_type": "execute_result"
    },
    {
     "data": {
      "image/png": "[encoded data removed]",
      "text/plain": [
       "<Figure size 640x480 with 1 Axes>"
      ]
     },
     "metadata": {},
     "output_type": "display_data"
    }
   ],
   "source": [
    "h = 100\n",
    "p1 = np.zeros(h)\n",
    "p2 = np.zeros(h)\n",
    "\n",
    "for i in range(h):\n",
    "    np.random.seed(i)\n",
    "    n = 1000 # samples\n",
    "    m = 1 # SNPs\n",
    "    k = 5 # num of covariates\n",
    "\n",
    "    S = np.random.normal(0, 1, size=(n, m)) # SNP matrix\n",
    "    X0 = np.random.uniform(0, 1, size=(n, k)) # covariates matrix \n",
    "    ones = np.zeros(n) + 1\n",
    "    X = np.append(ones.reshape(n, 1), X0, axis=1)\n",
    "    y = np.random.binomial(1, 0.5, n).reshape(n,1)\n",
    "\n",
    "    model = sm.GLM(y, X, family=sm.families.Binomial()).fit()\n",
    "    p = model.fittedvalues.reshape(n,1)\n",
    "\n",
    "    w = p * (1 - p) # diag matrix with const elem\n",
    "    z = np.log(p / (1 - p)) + (y - p) / (p * (1 - p))\n",
    "    xtw = (X * w).T # X^T * W\n",
    "    U1 = xtw @ z\n",
    "    U2 = np.linalg.solve(xtw @ X, U1) # find betta_t, needed to find z*\n",
    "    z_star = z - X @ U2\n",
    "    U4 = np.linalg.solve(xtw @ X, xtw @ S) \n",
    "    S_star = S - X @ U4\n",
    "    Str2 = np.sum(w * S_star**2, axis = 0) # m size vector of sums(w_i * s_i^2)\n",
    "    beta = np.sum(z_star * w * S_star, axis=0) / Str2 # m size vect of sums(wi zi si) / str2\n",
    "    err = Str2**-0.5\n",
    "    pval = 2 * stat.norm.cdf(-np.abs(beta / err))\n",
    "\n",
    "    X_si = np.append(S[:,0].reshape(n,1), X, axis=1)\n",
    "    model = sm.GLM(y, X_si, family=sm.families.Binomial()).fit()\n",
    "    pval_sep = model.pvalues[0]\n",
    "\n",
    "    p1[i] = pval\n",
    "    p2[i] = pval_sep\n",
    "       \n",
    "plt.plot(-np.log10(p1),-np.log10(p2),'o')\n"
   ]
  },
  {
   "cell_type": "code",
   "execution_count": 18,
   "metadata": {},
   "outputs": [
    {
     "data": {
      "text/plain": [
       "3.4000000000000003e-09"
      ]
     },
     "execution_count": 18,
     "metadata": {},
     "output_type": "execute_result"
    }
   ],
   "source": [
    "0.34/(10000 * 10000)"
   ]
  },
  {
   "cell_type": "markdown",
   "metadata": {},
   "source": []
  }
 ],
 "metadata": {
  "kernelspec": {
   "display_name": "Python 3.8.10 ('env': venv)",
   "language": "python",
   "name": "python3"
  },
  "language_info": {
   "codemirror_mode": {
    "name": "ipython",
    "version": 3
   },
   "file_extension": ".py",
   "mimetype": "text/x-python",
   "name": "python",
   "nbconvert_exporter": "python",
   "pygments_lexer": "ipython3",
   "version": "3.9.15"
  },
  "vscode": {
   "interpreter": {
    "hash": "f1bd3a2548a76f00b28f45c3303d0e6ce239ed1ecd5209dddd5366ce41d86223"
   }
  }
 },
 "nbformat": 4,
 "nbformat_minor": 4
}
